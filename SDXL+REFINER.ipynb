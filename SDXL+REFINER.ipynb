{
  "nbformat": 4,
  "nbformat_minor": 0,
  "metadata": {
    "colab": {
      "provenance": [],
      "machine_shape": "hm",
      "gpuType": "T4",
      "authorship_tag": "ABX9TyPtuo5mfeuEuMng/r+35sX/",
      "include_colab_link": true
    },
    "kernelspec": {
      "name": "python3",
      "display_name": "Python 3"
    },
    "language_info": {
      "name": "python"
    },
    "accelerator": "GPU"
  },
  "cells": [
    {
      "cell_type": "markdown",
      "metadata": {
        "id": "view-in-github",
        "colab_type": "text"
      },
      "source": [
        "<a href=\"https://colab.research.google.com/github/dhenypatungka/StableDiffusionNotebook/blob/main/SDXL%2BREFINER.ipynb\" target=\"_parent\"><img src=\"https://colab.research.google.com/assets/colab-badge.svg\" alt=\"Open In Colab\"/></a>"
      ]
    },
    {
      "cell_type": "code",
      "execution_count": null,
      "metadata": {
        "cellView": "form",
        "id": "eGcouVypjnR9"
      },
      "outputs": [],
      "source": [
        "#@markdown ### ♍ **Install Diffusers**\n",
        "#@markdown - Pastikan memilih T4 GPU untuk hardware accelerator.\n",
        "#@markdown - Tekan gambar folder disamping untuk  melihat hasil generate.\n",
        "\n",
        "!mkdir \"/content/Results\"\n",
        "basePath = \"/content/Results\"\n",
        "%cd {basePath}\n",
        "\n",
        "!pip install diffusers --upgrade\n",
        "!pip install invisible_watermark transformers accelerate safetensors\n",
        "\n",
        "from IPython.display import clear_output\n",
        "clear_output()"
      ]
    },
    {
      "cell_type": "code",
      "source": [
        "#@markdown ### ♍ **SDXL + Refiner**\n",
        "\n",
        "from diffusers import DiffusionPipeline, AutoencoderKL\n",
        "import torch\n",
        "\n",
        "vae = AutoencoderKL.from_pretrained(\n",
        "    \"madebyollin/sdxl-vae-fp16-fix\",\n",
        "    torch_dtype=torch.float16\n",
        ")\n",
        "pipe = DiffusionPipeline.from_pretrained(\n",
        "    \"stabilityai/stable-diffusion-xl-base-1.0\",\n",
        "    vae=vae,\n",
        "    torch_dtype=torch.float16,\n",
        "    variant=\"fp16\",\n",
        "    use_safetensors=True,\n",
        ")\n",
        "pipe.to(\"cuda\");\n",
        "refiner = DiffusionPipeline.from_pretrained(\n",
        "    \"stabilityai/stable-diffusion-xl-refiner-1.0\",\n",
        "    vae=vae,\n",
        "    torch_dtype=torch.float16,\n",
        "    use_safetensors=True,\n",
        "    variant=\"fp16\",\n",
        ")\n",
        "refiner.to(\"cuda\")\n",
        "\n",
        "from IPython.display import clear_output\n",
        "clear_output()\n",
        "\n",
        "prompt = \"an image of a person with a flowing, sculptural hairstyle and garment that echoes the movement of water. The hair and attire should be crafted with smooth, swirling patterns that extend and blend into each other, in a seamless and organic fashion. The color scheme should be a red gradient, set against a majestic red background to emphasize the subject. The subject's pose should be elegant and poised, with a profile view showcasing refined features and a calm, contemplative expression. Add a detailed, ornate earring to the subject to bring an additional element of sophistication. The lighting should cast soft shadows to define the swirling forms, creating a luxurious and modern aesthetic, detailed acrylic, grunge, intricate complexity, rendered in unreal engine, photorealistic, impression, masterpiece, best quality, highly detailed, intricate, beautiful detailed, refiner, high contrast, high detail, vivid color, 8k\" # @param {'type' : 'string'}\n",
        "Negative = \"bad anatomy, lowres, normal quality, grayscale, worstquality, watermark, bad proportions, out of focus, long neck, deformed, mutated, mutation, disfigured, poorly drawn face, skin blemishes, skin spots, acnes, missing limb, malformed limbs, floating limbs, disconnected limbs, extra limb, extra arms, mutated hands, poorly drawn hands, malformed hands, mutated hands and fingers, bad hands, missing fingers, fused fingers, too many fingers, extra legs, bad feet, cross-eyed,(distorted, :1.3), (:1.4), low quality, camera, BadDream, UnrealisticDream, bad-hands-5, BadNegAnatomyV1-neg, EasyNegative, FastNegativeV2, bad-picture-chill-75v\" # @param {'type' : 'string'}\n",
        "\n",
        "high_noise_frac = 0.8\n",
        "#@markdown <p>\n",
        "iMages = 1 #@param {type:\"slider\", min:1, max:4, step:1}\n",
        "Guidance = 7 #@param {type:\"slider\", min:0, max:15, step:1}\n",
        "Width = 768 #@param {type:\"slider\", min:256, max:1024, step:128}\n",
        "Height = 768 #@param {type:\"slider\", min:256, max:1024, step:128}\n",
        "Steps = 20 #@param {type:\"slider\", min:1, max:100, step:1}\n",
        "\n",
        "image = pipe(\n",
        "    prompt=prompt,\n",
        "    negative_prompt=Negative,\n",
        "    guidance_scale=Guidance,\n",
        "    num_images_per_prompt=iMages,\n",
        "    width=Width,\n",
        "    height=Height,\n",
        "    num_inference_steps=Steps,\n",
        "    denoising_end=high_noise_frac,\n",
        "    output_type=\"latent\",\n",
        ").images\n",
        "\n",
        "image = refiner(\n",
        "    prompt=prompt,\n",
        "    negative_prompt=Negative,\n",
        "    guidance_scale=Guidance,\n",
        "    num_images_per_prompt=iMages,\n",
        "    width=Width,\n",
        "    height=Height,\n",
        "    num_inference_steps=Steps,\n",
        "    denoising_start=high_noise_frac,\n",
        "    image=image,\n",
        ").images\n",
        "\n",
        "import datetime\n",
        "e = datetime.datetime.now()\n",
        "for i, image in enumerate(image):\n",
        "  image.save(f\"/content/Results/dp_{e.hour}:{e.minute}:{e.second}_{i}.png\")\n",
        "\n",
        "from IPython.display import clear_output\n",
        "clear_output()"
      ],
      "metadata": {
        "cellView": "form",
        "id": "T-zUXrnlsZsB"
      },
      "execution_count": null,
      "outputs": []
    },
    {
      "cell_type": "code",
      "source": [
        "#@markdown ### ♍ **Restart Session**\n",
        "#@markdown - Restart session jika sering terjadi crash.\n",
        "import os\n",
        "os.kill(os.getpid(), 9)"
      ],
      "metadata": {
        "id": "puzGFsiK30_B",
        "cellView": "form"
      },
      "execution_count": null,
      "outputs": []
    }
  ]
}