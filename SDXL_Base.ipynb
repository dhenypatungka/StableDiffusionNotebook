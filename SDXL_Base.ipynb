{
  "nbformat": 4,
  "nbformat_minor": 0,
  "metadata": {
    "colab": {
      "provenance": [],
      "authorship_tag": "ABX9TyMXWksBnd1RCClFpVkHDin0",
      "include_colab_link": true
    },
    "kernelspec": {
      "name": "python3",
      "display_name": "Python 3"
    },
    "language_info": {
      "name": "python"
    }
  },
  "cells": [
    {
      "cell_type": "markdown",
      "metadata": {
        "id": "view-in-github",
        "colab_type": "text"
      },
      "source": [
        "<a href=\"https://colab.research.google.com/github/dhenypatungka/StableDiffusionNotebook/blob/main/SDXL_Base.ipynb\" target=\"_parent\"><img src=\"https://colab.research.google.com/assets/colab-badge.svg\" alt=\"Open In Colab\"/></a>"
      ]
    },
    {
      "cell_type": "code",
      "execution_count": null,
      "metadata": {
        "cellView": "form",
        "id": "BTkanIkggY81"
      },
      "outputs": [],
      "source": [
        "#@markdown ### ♍ **Install Diffusers**\n",
        "#@markdown - Pastikan memilih T4 GPU untuk hardware accelerator.\n",
        "#@markdown - Tekan gambar folder disamping untuk  melihat hasil generate.\n",
        "\n",
        "!mkdir \"/content/Results\"\n",
        "basePath = \"/content/Results\"\n",
        "%cd {basePath}\n",
        "\n",
        "!pip install diffusers --upgrade\n",
        "!pip install invisible_watermark transformers accelerate safetensors\n",
        "\n",
        "from IPython.display import clear_output\n",
        "clear_output()\n",
        "print(\"🌇 Modul berhasil di pasang\")"
      ]
    },
    {
      "cell_type": "code",
      "source": [
        "#@markdown ### ♍ **Generate Image**\n",
        "\n",
        "from diffusers import DiffusionPipeline, AutoencoderKL\n",
        "import torch\n",
        "\n",
        "vae = AutoencoderKL.from_pretrained(\n",
        "    \"madebyollin/sdxl-vae-fp16-fix\",\n",
        "    torch_dtype=torch.float16\n",
        ")\n",
        "pipe = DiffusionPipeline.from_pretrained(\n",
        "    \"stabilityai/stable-diffusion-xl-base-1.0\",\n",
        "    vae=vae,\n",
        "    torch_dtype=torch.float16,\n",
        "    variant=\"fp16\",\n",
        "    use_safetensors=True,\n",
        ")\n",
        "pipe.to(\"cuda\");\n",
        "#@markdown <p>\n",
        "Prompt = \"Old man portrait wearing poor outfit, hungry and sad, detailed eyes, hyper realistic, 8k, dreamlike, bokeh, old house\" # @param {'type' : 'string'}\n",
        "Negative = \"lowres, bad anatomy, bad hands, text, error, missing fingers, extra digit, fewer digits, cropped, worst quality, low quality, normal quality, jpeg artifacts, signature, watermark \"  # @param {'type' : 'string'}\n",
        "#@markdown <p>\n",
        "iMages = 3 #@param {type:\"slider\", min:1, max:10, step:1}\n",
        "Guidance = 7 #@param {type:\"slider\", min:0, max:15, step:1}\n",
        "Width = 640 #@param {type:\"slider\", min:256, max:1024, step:128}\n",
        "Height = 768 #@param {type:\"slider\", min:256, max:1024, step:128}\n",
        "Step = 25 #@param {type:\"slider\", min:1, max:100, step:1}\n",
        "image = pipe(prompt=Prompt, num_inference_steps=Step, negative_prompt=Negative, guidance_scale=Guidance, num_images_per_prompt=iMages, width=Width, height=Height).images\n",
        "\n",
        "import random\n",
        "rand = random.randint(0,2500000)\n",
        "for i, image in enumerate(image):\n",
        "  image.save(f\"/content/Results/dpXL_{i}{rand}.png\")\n",
        "################################################################\n",
        "from IPython.display import clear_output\n",
        "clear_output()\n",
        "print(\"🌇\", iMages, \"Gambar berhasil dibuat\")"
      ],
      "metadata": {
        "cellView": "form",
        "id": "sxfAYZ-ZZzB-"
      },
      "execution_count": null,
      "outputs": []
    },
    {
      "cell_type": "code",
      "source": [
        "#@markdown ### ♍ **Restart Session**\n",
        "#@markdown - Restart session jika sering terjadi crash.\n",
        "import os\n",
        "os.kill(os.getpid(), 9)"
      ],
      "metadata": {
        "cellView": "form",
        "id": "puzGFsiK30_B"
      },
      "execution_count": null,
      "outputs": []
    }
  ]
}